{
 "cells": [
  {
   "cell_type": "markdown",
   "id": "94760821",
   "metadata": {},
   "source": [
    "Comencem a familiaritzar-nos amb Pipelines, grid search i text mining !!! Comencem amb uns quants exercicis bàsics"
   ]
  },
  {
   "cell_type": "markdown",
   "id": "669a9b45",
   "metadata": {},
   "source": [
    "### Nivell 1\n",
    "**- Exercici 1:**\n",
    "\n",
    "Agafa el conjunt de dades que vulguis i realitza un pipeline i un gridsearch aplicant l'algorisme de Random Forest."
   ]
  },
  {
   "cell_type": "code",
   "execution_count": 23,
   "id": "ab05ae6d",
   "metadata": {},
   "outputs": [],
   "source": [
    "import pandas as pd\n",
    "import numpy as np\n",
    "from sklearn.model_selection import train_test_split\n",
    "from sklearn.metrics import mean_squared_error\n",
    "from sklearn.preprocessing import MinMaxScaler\n",
    "from sklearn.decomposition import PCA\n",
    "from sklearn.pipeline import Pipeline\n",
    "from sklearn.linear_model import LogisticRegression\n",
    "from sklearn.tree import DecisionTreeClassifier\n",
    "from sklearn.ensemble import RandomForestRegressor\n",
    "from sklearn.linear_model import Ridge\n",
    "from sklearn.model_selection import RandomizedSearchCV\n",
    "from scipy.stats import uniform as sp_rand\n",
    "import matplotlib.pyplot as plt"
   ]
  },
  {
   "cell_type": "code",
   "execution_count": 24,
   "id": "4a0e85c8",
   "metadata": {},
   "outputs": [],
   "source": [
    "df = pd.read_csv('pima-indians-diabetes.csv', header = None)"
   ]
  },
  {
   "cell_type": "code",
   "execution_count": 25,
   "id": "a1be9d5b",
   "metadata": {},
   "outputs": [
    {
     "data": {
      "text/html": [
       "<div>\n",
       "<style scoped>\n",
       "    .dataframe tbody tr th:only-of-type {\n",
       "        vertical-align: middle;\n",
       "    }\n",
       "\n",
       "    .dataframe tbody tr th {\n",
       "        vertical-align: top;\n",
       "    }\n",
       "\n",
       "    .dataframe thead th {\n",
       "        text-align: right;\n",
       "    }\n",
       "</style>\n",
       "<table border=\"1\" class=\"dataframe\">\n",
       "  <thead>\n",
       "    <tr style=\"text-align: right;\">\n",
       "      <th></th>\n",
       "      <th>0</th>\n",
       "      <th>1</th>\n",
       "      <th>2</th>\n",
       "      <th>3</th>\n",
       "      <th>4</th>\n",
       "      <th>5</th>\n",
       "      <th>6</th>\n",
       "      <th>7</th>\n",
       "      <th>8</th>\n",
       "    </tr>\n",
       "  </thead>\n",
       "  <tbody>\n",
       "    <tr>\n",
       "      <th>0</th>\n",
       "      <td>6</td>\n",
       "      <td>148</td>\n",
       "      <td>72</td>\n",
       "      <td>35</td>\n",
       "      <td>0</td>\n",
       "      <td>33.6</td>\n",
       "      <td>0.627</td>\n",
       "      <td>50</td>\n",
       "      <td>1</td>\n",
       "    </tr>\n",
       "    <tr>\n",
       "      <th>1</th>\n",
       "      <td>1</td>\n",
       "      <td>85</td>\n",
       "      <td>66</td>\n",
       "      <td>29</td>\n",
       "      <td>0</td>\n",
       "      <td>26.6</td>\n",
       "      <td>0.351</td>\n",
       "      <td>31</td>\n",
       "      <td>0</td>\n",
       "    </tr>\n",
       "    <tr>\n",
       "      <th>2</th>\n",
       "      <td>8</td>\n",
       "      <td>183</td>\n",
       "      <td>64</td>\n",
       "      <td>0</td>\n",
       "      <td>0</td>\n",
       "      <td>23.3</td>\n",
       "      <td>0.672</td>\n",
       "      <td>32</td>\n",
       "      <td>1</td>\n",
       "    </tr>\n",
       "    <tr>\n",
       "      <th>3</th>\n",
       "      <td>1</td>\n",
       "      <td>89</td>\n",
       "      <td>66</td>\n",
       "      <td>23</td>\n",
       "      <td>94</td>\n",
       "      <td>28.1</td>\n",
       "      <td>0.167</td>\n",
       "      <td>21</td>\n",
       "      <td>0</td>\n",
       "    </tr>\n",
       "    <tr>\n",
       "      <th>4</th>\n",
       "      <td>0</td>\n",
       "      <td>137</td>\n",
       "      <td>40</td>\n",
       "      <td>35</td>\n",
       "      <td>168</td>\n",
       "      <td>43.1</td>\n",
       "      <td>2.288</td>\n",
       "      <td>33</td>\n",
       "      <td>1</td>\n",
       "    </tr>\n",
       "    <tr>\n",
       "      <th>...</th>\n",
       "      <td>...</td>\n",
       "      <td>...</td>\n",
       "      <td>...</td>\n",
       "      <td>...</td>\n",
       "      <td>...</td>\n",
       "      <td>...</td>\n",
       "      <td>...</td>\n",
       "      <td>...</td>\n",
       "      <td>...</td>\n",
       "    </tr>\n",
       "    <tr>\n",
       "      <th>763</th>\n",
       "      <td>10</td>\n",
       "      <td>101</td>\n",
       "      <td>76</td>\n",
       "      <td>48</td>\n",
       "      <td>180</td>\n",
       "      <td>32.9</td>\n",
       "      <td>0.171</td>\n",
       "      <td>63</td>\n",
       "      <td>0</td>\n",
       "    </tr>\n",
       "    <tr>\n",
       "      <th>764</th>\n",
       "      <td>2</td>\n",
       "      <td>122</td>\n",
       "      <td>70</td>\n",
       "      <td>27</td>\n",
       "      <td>0</td>\n",
       "      <td>36.8</td>\n",
       "      <td>0.340</td>\n",
       "      <td>27</td>\n",
       "      <td>0</td>\n",
       "    </tr>\n",
       "    <tr>\n",
       "      <th>765</th>\n",
       "      <td>5</td>\n",
       "      <td>121</td>\n",
       "      <td>72</td>\n",
       "      <td>23</td>\n",
       "      <td>112</td>\n",
       "      <td>26.2</td>\n",
       "      <td>0.245</td>\n",
       "      <td>30</td>\n",
       "      <td>0</td>\n",
       "    </tr>\n",
       "    <tr>\n",
       "      <th>766</th>\n",
       "      <td>1</td>\n",
       "      <td>126</td>\n",
       "      <td>60</td>\n",
       "      <td>0</td>\n",
       "      <td>0</td>\n",
       "      <td>30.1</td>\n",
       "      <td>0.349</td>\n",
       "      <td>47</td>\n",
       "      <td>1</td>\n",
       "    </tr>\n",
       "    <tr>\n",
       "      <th>767</th>\n",
       "      <td>1</td>\n",
       "      <td>93</td>\n",
       "      <td>70</td>\n",
       "      <td>31</td>\n",
       "      <td>0</td>\n",
       "      <td>30.4</td>\n",
       "      <td>0.315</td>\n",
       "      <td>23</td>\n",
       "      <td>0</td>\n",
       "    </tr>\n",
       "  </tbody>\n",
       "</table>\n",
       "<p>768 rows × 9 columns</p>\n",
       "</div>"
      ],
      "text/plain": [
       "      0    1   2   3    4     5      6   7  8\n",
       "0     6  148  72  35    0  33.6  0.627  50  1\n",
       "1     1   85  66  29    0  26.6  0.351  31  0\n",
       "2     8  183  64   0    0  23.3  0.672  32  1\n",
       "3     1   89  66  23   94  28.1  0.167  21  0\n",
       "4     0  137  40  35  168  43.1  2.288  33  1\n",
       "..   ..  ...  ..  ..  ...   ...    ...  .. ..\n",
       "763  10  101  76  48  180  32.9  0.171  63  0\n",
       "764   2  122  70  27    0  36.8  0.340  27  0\n",
       "765   5  121  72  23  112  26.2  0.245  30  0\n",
       "766   1  126  60   0    0  30.1  0.349  47  1\n",
       "767   1   93  70  31    0  30.4  0.315  23  0\n",
       "\n",
       "[768 rows x 9 columns]"
      ]
     },
     "execution_count": 25,
     "metadata": {},
     "output_type": "execute_result"
    }
   ],
   "source": [
    "df"
   ]
  },
  {
   "cell_type": "code",
   "execution_count": 26,
   "id": "b6ebb2f8",
   "metadata": {},
   "outputs": [],
   "source": [
    "# asignación de nombres a las columnas\n",
    "df.columns = ['Pregnancies', 'Glucose' , 'Blood_Preassure', 'Skin_Thickness',\n",
    "               'Insuline', 'BMI', 'Diabetes_Pedigree_Function', 'Age', 'Class']"
   ]
  },
  {
   "cell_type": "code",
   "execution_count": 27,
   "id": "20b8bd7a",
   "metadata": {},
   "outputs": [],
   "source": [
    "# al importar el DF, la columna Diabetes_pedigree_function los valores se han\n",
    "# importado como decimales. El DF Original eran centenas. Se corrige.\n",
    "df['Diabetes_Pedigree_Function'] = df['Diabetes_Pedigree_Function'].apply(lambda x: x*1000)"
   ]
  },
  {
   "cell_type": "code",
   "execution_count": 28,
   "id": "f8db67d1",
   "metadata": {
    "scrolled": false
   },
   "outputs": [
    {
     "data": {
      "text/html": [
       "<div>\n",
       "<style scoped>\n",
       "    .dataframe tbody tr th:only-of-type {\n",
       "        vertical-align: middle;\n",
       "    }\n",
       "\n",
       "    .dataframe tbody tr th {\n",
       "        vertical-align: top;\n",
       "    }\n",
       "\n",
       "    .dataframe thead th {\n",
       "        text-align: right;\n",
       "    }\n",
       "</style>\n",
       "<table border=\"1\" class=\"dataframe\">\n",
       "  <thead>\n",
       "    <tr style=\"text-align: right;\">\n",
       "      <th></th>\n",
       "      <th>Pregnancies</th>\n",
       "      <th>Glucose</th>\n",
       "      <th>Blood_Preassure</th>\n",
       "      <th>Skin_Thickness</th>\n",
       "      <th>Insuline</th>\n",
       "      <th>BMI</th>\n",
       "      <th>Diabetes_Pedigree_Function</th>\n",
       "      <th>Age</th>\n",
       "      <th>Class</th>\n",
       "    </tr>\n",
       "  </thead>\n",
       "  <tbody>\n",
       "    <tr>\n",
       "      <th>0</th>\n",
       "      <td>6</td>\n",
       "      <td>148</td>\n",
       "      <td>72</td>\n",
       "      <td>35</td>\n",
       "      <td>0</td>\n",
       "      <td>33.6</td>\n",
       "      <td>627.0</td>\n",
       "      <td>50</td>\n",
       "      <td>1</td>\n",
       "    </tr>\n",
       "    <tr>\n",
       "      <th>1</th>\n",
       "      <td>1</td>\n",
       "      <td>85</td>\n",
       "      <td>66</td>\n",
       "      <td>29</td>\n",
       "      <td>0</td>\n",
       "      <td>26.6</td>\n",
       "      <td>351.0</td>\n",
       "      <td>31</td>\n",
       "      <td>0</td>\n",
       "    </tr>\n",
       "    <tr>\n",
       "      <th>2</th>\n",
       "      <td>8</td>\n",
       "      <td>183</td>\n",
       "      <td>64</td>\n",
       "      <td>0</td>\n",
       "      <td>0</td>\n",
       "      <td>23.3</td>\n",
       "      <td>672.0</td>\n",
       "      <td>32</td>\n",
       "      <td>1</td>\n",
       "    </tr>\n",
       "    <tr>\n",
       "      <th>3</th>\n",
       "      <td>1</td>\n",
       "      <td>89</td>\n",
       "      <td>66</td>\n",
       "      <td>23</td>\n",
       "      <td>94</td>\n",
       "      <td>28.1</td>\n",
       "      <td>167.0</td>\n",
       "      <td>21</td>\n",
       "      <td>0</td>\n",
       "    </tr>\n",
       "    <tr>\n",
       "      <th>4</th>\n",
       "      <td>0</td>\n",
       "      <td>137</td>\n",
       "      <td>40</td>\n",
       "      <td>35</td>\n",
       "      <td>168</td>\n",
       "      <td>43.1</td>\n",
       "      <td>2288.0</td>\n",
       "      <td>33</td>\n",
       "      <td>1</td>\n",
       "    </tr>\n",
       "  </tbody>\n",
       "</table>\n",
       "</div>"
      ],
      "text/plain": [
       "   Pregnancies  Glucose  Blood_Preassure  Skin_Thickness  Insuline   BMI  \\\n",
       "0            6      148               72              35         0  33.6   \n",
       "1            1       85               66              29         0  26.6   \n",
       "2            8      183               64               0         0  23.3   \n",
       "3            1       89               66              23        94  28.1   \n",
       "4            0      137               40              35       168  43.1   \n",
       "\n",
       "   Diabetes_Pedigree_Function  Age  Class  \n",
       "0                       627.0   50      1  \n",
       "1                       351.0   31      0  \n",
       "2                       672.0   32      1  \n",
       "3                       167.0   21      0  \n",
       "4                      2288.0   33      1  "
      ]
     },
     "execution_count": 28,
     "metadata": {},
     "output_type": "execute_result"
    }
   ],
   "source": [
    "df.head()"
   ]
  },
  {
   "cell_type": "markdown",
   "id": "bf831c47",
   "metadata": {},
   "source": [
    "### Pipeline"
   ]
  },
  {
   "cell_type": "code",
   "execution_count": 29,
   "id": "66adb9d3",
   "metadata": {},
   "outputs": [],
   "source": [
    "feature_cols = ['Pregnancies', 'Glucose' , 'Blood_Preassure', 'Skin_Thickness',\n",
    "               'Insuline', 'BMI', 'Diabetes_Pedigree_Function', 'Age']"
   ]
  },
  {
   "cell_type": "code",
   "execution_count": 30,
   "id": "7a72cce0",
   "metadata": {},
   "outputs": [],
   "source": [
    "\n",
    "x = df[feature_cols]\n",
    "y = df['Class']"
   ]
  },
  {
   "cell_type": "code",
   "execution_count": 31,
   "id": "0aab8630",
   "metadata": {},
   "outputs": [],
   "source": [
    "# estandarización de vaores con la función MinMaxScaler\n",
    "df = pd.DataFrame(MinMaxScaler(df.values), columns=df.columns, index=df.index)"
   ]
  },
  {
   "cell_type": "code",
   "execution_count": 32,
   "id": "221ab684",
   "metadata": {},
   "outputs": [],
   "source": [
    "X_train, X_test, y_train, y_test = train_test_split(x, y, test_size= 0.25, random_state = 42 )"
   ]
  },
  {
   "cell_type": "code",
   "execution_count": 33,
   "id": "5b2cd28f",
   "metadata": {},
   "outputs": [],
   "source": [
    "# Creación del modelo modificando PCA y la profundidad de Random Forest\n",
    "Random_Forest_pipeline = Pipeline([('my_PCA', PCA(n_components = 3)),\n",
    "                                   ('logistic_classifier', RandomForestRegressor(max_depth=10))])"
   ]
  },
  {
   "cell_type": "code",
   "execution_count": 34,
   "id": "a24fd241",
   "metadata": {},
   "outputs": [
    {
     "data": {
      "text/plain": [
       "array([7.31578561e-01, 1.71656701e-01, 1.62244898e-02, 2.40147059e-02,\n",
       "       9.98433856e-02, 0.00000000e+00, 6.83586111e-01, 8.39043504e-01,\n",
       "       4.51867945e-02, 0.00000000e+00, 4.26223317e-01, 1.13026316e-01,\n",
       "       2.99764348e-01, 3.08695652e-02, 0.00000000e+00, 1.47893205e-01,\n",
       "       9.20000000e-01, 8.55190476e-01, 2.15481275e-01, 1.44690114e-01,\n",
       "       7.98622393e-02, 3.08902156e-01, 6.39730133e-01, 6.71104604e-02,\n",
       "       2.82355311e-01, 7.11299359e-01, 1.74934699e-01, 2.61428571e-01,\n",
       "       8.80000000e-01, 4.68695652e-02, 1.59777778e-01, 8.88721897e-02,\n",
       "       2.62272727e-02, 1.48388546e-01, 5.51745304e-01, 6.16033622e-01,\n",
       "       2.30545678e-01, 1.00507127e-02, 0.00000000e+00, 0.00000000e+00,\n",
       "       3.23109244e-02, 6.01791711e-01, 1.01339172e-01, 0.00000000e+00,\n",
       "       3.00000000e-02, 2.11093419e-01, 6.00290346e-01, 7.48416394e-01,\n",
       "       2.93777335e-01, 2.08525103e-02, 6.03674819e-01, 2.83909956e-01,\n",
       "       2.81100679e-02, 2.64740637e-01, 2.47477719e-01, 2.97777778e-02,\n",
       "       2.84535223e-01, 8.68718487e-02, 6.80882353e-01, 8.00000000e-02,\n",
       "       7.81000000e-01, 2.58706816e-01, 2.05282217e-01, 2.03684839e-01,\n",
       "       4.47731081e-02, 7.58112358e-01, 1.63640432e-02, 9.50712260e-02,\n",
       "       2.51363880e-01, 8.21052535e-01, 1.21560928e-02, 2.70086010e-02,\n",
       "       1.49840026e-01, 1.46639708e-01, 2.31092437e-03, 2.85714286e-03,\n",
       "       8.23309084e-03, 2.44187254e-01, 5.60606061e-04, 6.40952381e-02,\n",
       "       6.80309941e-01, 8.71428571e-01, 0.00000000e+00, 3.25283011e-01,\n",
       "       1.54021378e-01, 7.75800420e-01, 3.53627618e-02, 2.18338799e-01,\n",
       "       3.38738059e-02, 9.60000000e-01, 9.80000000e-01, 1.00000000e+00,\n",
       "       2.55780509e-01, 2.86101879e-01, 9.40000000e-01, 8.56666667e-01,\n",
       "       8.35665166e-02, 8.17692308e-02, 5.29545455e-02, 1.02272727e-02,\n",
       "       6.71328148e-01, 3.35362319e-02, 9.10604006e-01, 6.24313368e-02,\n",
       "       1.16753954e-01, 9.90000000e-01, 6.00431603e-01, 1.26948124e-01,\n",
       "       2.17498943e-01, 7.11492947e-01, 9.60000000e-01, 4.88859478e-02,\n",
       "       1.43640128e-01, 8.00581812e-03, 1.80416667e-01, 2.67863019e-01,\n",
       "       2.64517625e-02, 7.16250928e-01, 5.76133508e-02, 7.90000000e-01,\n",
       "       1.00000000e+00, 0.00000000e+00, 7.75787174e-02, 1.44519352e-01,\n",
       "       8.29704656e-01, 1.28011597e-01, 1.40000000e-03, 5.19821098e-02,\n",
       "       5.23979272e-01, 6.79219414e-01, 7.90000000e-01, 6.47142278e-02,\n",
       "       6.92362858e-01, 1.63305281e-01, 1.28571429e-02, 9.22500000e-02,\n",
       "       1.97325664e-01, 9.50000000e-02, 1.25000000e-03, 1.14285714e-02,\n",
       "       0.00000000e+00, 7.90882353e-01, 6.82210217e-01, 1.00507127e-02,\n",
       "       1.00000000e+00, 7.69473364e-01, 4.52658371e-03, 3.03333333e-02,\n",
       "       6.91250000e-01, 3.99117928e-02, 4.39771979e-02, 1.00000000e+00,\n",
       "       8.60986749e-01, 8.00000000e-01, 0.00000000e+00, 0.00000000e+00,\n",
       "       8.47619048e-02, 2.74310304e-01, 1.72810349e-01, 8.52968556e-01,\n",
       "       2.37813897e-01, 1.00000000e+00, 2.08374777e-01, 5.09772727e-02,\n",
       "       3.40112773e-01, 4.23129286e-02, 1.67443732e-01, 2.08596042e-01,\n",
       "       2.74208171e-01, 9.90000000e-01, 8.90000000e-01, 2.37858128e-01,\n",
       "       2.25507127e-02, 4.35940028e-02, 1.22415671e-01, 8.23309084e-03,\n",
       "       1.47846846e-01, 4.72413147e-01, 6.00416667e-01, 2.22952381e-01,\n",
       "       1.00000000e+00, 7.54809741e-01, 7.53024778e-01, 8.35501264e-02,\n",
       "       1.68130838e-01, 2.91444387e-01, 8.82352941e-04, 3.05641040e-01,\n",
       "       6.04275380e-01, 9.90000000e-01, 9.10000000e-01, 9.20405106e-01,\n",
       "       1.77710693e-01, 1.25790666e-01, 8.65469081e-01, 2.26666667e-01,\n",
       "       8.23309084e-03, 7.76218438e-01, 5.11391559e-01, 1.00000000e-03,\n",
       "       7.50989770e-01, 9.63333333e-01, 2.48500000e-01, 9.90000000e-01,\n",
       "       7.24295924e-02, 2.40000000e-01, 7.44528721e-02, 6.38341115e-01,\n",
       "       6.36172208e-02, 6.05321334e-01, 0.00000000e+00, 7.39361578e-01,\n",
       "       4.45434207e-02, 4.12915541e-01, 2.54461008e-01, 9.60000000e-01,\n",
       "       8.11102322e-01, 1.40227052e-01, 5.46428672e-01, 7.27619048e-02,\n",
       "       2.14894526e-01, 7.86579428e-01, 2.33739496e-01, 8.93944444e-01,\n",
       "       2.10168254e-01, 1.67177504e-01, 9.90000000e-01, 7.01115808e-02,\n",
       "       3.19836080e-02, 6.85268444e-01, 1.18678264e-01, 4.76750458e-02,\n",
       "       6.66591934e-01, 2.09343258e-01, 9.80000000e-01, 8.55310924e-01,\n",
       "       1.00677477e-01, 4.60952381e-02, 5.61679376e-02, 2.88737231e-01,\n",
       "       6.77515697e-01, 9.70000000e-01, 1.14122420e-01, 5.78013059e-01,\n",
       "       5.71797256e-02, 1.10000000e-02, 7.50290491e-01, 8.23309084e-03,\n",
       "       8.44062285e-01, 1.63333333e-01, 1.00000000e+00, 6.00000000e-02,\n",
       "       6.73580022e-02, 2.10174030e-01, 2.01207126e-01, 8.00818936e-01,\n",
       "       5.27878709e-01, 7.71628080e-01, 5.75445701e-01, 5.65829576e-01,\n",
       "       9.93643461e-02, 3.90000000e-01, 3.33333333e-04, 2.78534605e-01,\n",
       "       9.20000000e-01, 1.00000000e+00, 4.01470588e-03, 1.33914266e-01,\n",
       "       1.00000000e-03, 7.71883796e-01, 1.40391972e-01, 6.26428106e-01,\n",
       "       1.15866840e-01, 1.33428571e-01, 0.00000000e+00, 1.64260269e-01,\n",
       "       2.12036299e-01, 9.01666667e-01, 9.10000000e-01, 2.70027417e-01,\n",
       "       8.16960784e-01, 7.01229852e-01, 7.48707161e-01, 5.64712328e-01,\n",
       "       8.53265873e-01, 1.00507127e-02, 1.42857143e-03, 3.47619048e-02,\n",
       "       1.00000000e-02, 1.36323232e-02, 6.85861761e-01, 9.02782681e-01,\n",
       "       1.00000000e-02, 9.40000000e-01, 9.40000000e-01, 1.00000000e-03,\n",
       "       2.84264998e-01, 8.53333333e-01, 0.00000000e+00, 7.67666667e-01,\n",
       "       1.00000000e-02, 7.17692308e-02, 3.72331656e-01, 6.28459596e-02,\n",
       "       3.13472666e-01, 4.03512502e-02, 6.29456751e-01, 9.97893748e-02,\n",
       "       9.80000000e-01, 2.37394958e-02, 1.99509724e-01, 3.78157926e-01,\n",
       "       7.86954248e-01, 6.05335406e-02, 5.13707180e-01, 1.00000000e+00,\n",
       "       8.33184885e-01, 5.83245697e-02, 2.56593419e-01, 2.27272727e-02,\n",
       "       2.59213545e-01, 1.15683503e-01, 1.98463923e-02, 2.21142857e-02,\n",
       "       4.58738059e-02, 1.00000000e-02, 8.82352941e-04, 1.77877498e-01,\n",
       "       6.63843698e-01, 1.60786874e-01, 1.75443277e-01, 6.08385606e-02,\n",
       "       8.32380952e-01, 9.44029988e-02, 6.62197802e-01, 0.00000000e+00,\n",
       "       2.40147059e-02, 6.86094035e-01, 1.40000000e-03, 9.73333333e-01,\n",
       "       1.97321463e-01, 1.63640432e-02, 5.00364410e-02, 9.40000000e-01,\n",
       "       1.14285714e-02, 1.02272727e-02, 7.20000000e-01, 0.00000000e+00,\n",
       "       1.92057904e-01, 8.37394958e-02, 2.27272727e-04, 5.55586692e-01,\n",
       "       1.21560928e-02, 2.03515785e-02, 2.71833543e-01, 5.19836080e-02,\n",
       "       1.22497622e-01, 7.36774653e-01, 1.94884611e-01, 2.24320138e-01,\n",
       "       3.19906753e-01, 2.00208618e-01, 1.59753192e-01, 8.00000000e-02,\n",
       "       2.72727273e-03, 4.00000000e-02, 5.97268542e-01, 9.02327594e-01,\n",
       "       0.00000000e+00, 1.82213289e-03, 2.34333333e-01, 8.90747253e-01,\n",
       "       2.89231284e-02, 1.00000000e-02, 5.92123212e-01, 5.73109244e-02,\n",
       "       6.59529316e-01, 1.55889356e-01, 7.39321564e-01, 5.93964115e-01,\n",
       "       2.18323232e-02, 1.63640432e-02, 2.11302716e-01, 7.34641148e-02,\n",
       "       2.98777524e-01, 8.69583333e-01, 8.12125432e-01, 5.55457097e-01,\n",
       "       7.25927466e-01, 8.38738059e-02, 5.97643098e-04, 1.18221329e-02,\n",
       "       7.57471428e-01, 5.26930639e-01, 1.00000000e+00, 1.00000000e+00,\n",
       "       2.27272727e-04, 6.40021142e-01, 2.36223790e-01, 3.60875297e-01,\n",
       "       1.98791985e-01, 8.52239619e-02, 0.00000000e+00, 2.78420956e-01,\n",
       "       0.00000000e+00, 0.00000000e+00, 3.19728909e-01, 0.00000000e+00,\n",
       "       2.16899769e-01, 5.03109244e-02, 9.90000000e-01, 2.30724150e-01,\n",
       "       2.02761425e-01, 0.00000000e+00, 3.19509158e-01, 2.35542429e-01,\n",
       "       1.20000000e-02, 1.32842186e-01, 1.00123644e-01, 2.62272727e-02,\n",
       "       5.82711817e-01, 2.92480690e-01, 1.92907063e-01, 4.63640432e-02,\n",
       "       2.79676883e-01, 2.72801976e-01, 6.15516699e-01, 5.55544026e-02,\n",
       "       4.67667744e-02, 4.61335313e-02, 6.27633015e-01, 2.39599355e-01,\n",
       "       6.74479036e-01, 8.33190476e-01, 1.11831877e-01, 1.26011905e-01,\n",
       "       6.94540149e-01, 6.04129934e-01, 3.31428571e-01, 1.34980396e-01,\n",
       "       8.01861729e-01, 1.83401506e-01, 4.38181818e-02, 5.97643098e-04,\n",
       "       1.17975192e-01, 2.23150482e-01, 1.00000000e-02, 9.50000000e-01,\n",
       "       9.60000000e-01, 3.97759104e-03, 6.71651812e-01, 2.18151552e-01,\n",
       "       6.94116652e-02, 7.92923341e-01, 8.51428571e-01, 1.67981848e-01,\n",
       "       8.45825397e-01, 1.00000000e+00, 0.00000000e+00, 0.00000000e+00,\n",
       "       7.31377688e-01, 7.53333333e-01, 3.33333333e-04, 0.00000000e+00,\n",
       "       2.33024186e-01, 1.08695652e-02, 3.55357143e-02, 6.48490141e-01,\n",
       "       7.79315162e-01, 3.70000000e-01, 9.70000000e-01, 0.00000000e+00,\n",
       "       5.60606061e-04, 1.00000000e+00, 7.20376472e-01, 9.00000000e-01,\n",
       "       3.63774613e-01, 3.33333333e-04, 1.57639842e-01, 1.00000000e+00,\n",
       "       5.77127913e-01, 1.00000000e-02, 1.00000000e-02, 6.12443056e-01,\n",
       "       8.35179889e-01, 4.29035948e-02, 3.83333333e-01, 8.16100566e-03,\n",
       "       5.41501976e-03, 7.85349586e-01, 6.24750722e-01, 0.00000000e+00,\n",
       "       6.92793511e-01, 2.47514333e-01, 1.71594263e-01, 1.16781328e-01,\n",
       "       8.80000000e-01, 9.15007267e-02, 6.54540145e-01, 1.40354308e-01,\n",
       "       3.00000000e-02, 8.49804971e-02, 3.89231284e-02, 7.59183007e-01,\n",
       "       2.47899473e-01, 1.07384271e-01, 2.54150198e-02, 8.23309084e-03,\n",
       "       6.32855117e-02, 1.00000000e+00, 1.41680925e-01, 1.02540018e-01,\n",
       "       2.85262100e-01, 3.08695652e-02, 1.00000000e+00, 1.62250000e-01,\n",
       "       7.85152027e-01, 2.02602789e-01, 9.90000000e-01, 5.53826541e-02,\n",
       "       2.94394932e-01, 0.00000000e+00, 8.45487179e-01, 6.51828119e-02,\n",
       "       9.93257324e-02, 5.66212542e-01, 3.00000000e-02, 1.33666489e-01,\n",
       "       9.30000000e-01, 9.53333333e-01, 6.79933724e-01, 8.03469081e-01,\n",
       "       8.03261945e-02, 7.74276316e-01, 2.63777778e-02, 0.00000000e+00,\n",
       "       1.10677477e-01, 7.02407788e-01, 2.28545559e-01, 1.22458777e-01,\n",
       "       1.00000000e+00, 6.09785096e-01, 1.64196032e-01, 1.71280380e-01,\n",
       "       7.03400509e-01, 0.00000000e+00, 1.42029163e-01, 2.57374887e-01,\n",
       "       1.71534759e-01, 3.11666667e-01, 5.92284374e-01, 5.20090853e-02,\n",
       "       3.42021006e-02, 2.45920088e-01, 2.31100679e-02, 2.61604199e-01,\n",
       "       8.29306078e-01, 8.50000000e-01, 1.00000000e+00, 7.33028573e-01,\n",
       "       5.58719751e-01, 1.76470588e-03, 9.77777778e-03, 7.08840095e-01,\n",
       "       2.31473352e-01, 8.01984917e-01, 0.00000000e+00, 1.50586447e-01,\n",
       "       8.47235032e-01, 2.38502754e-01, 1.12058258e-01, 3.23954093e-01,\n",
       "       4.36337680e-02, 7.61333333e-01, 5.76027878e-01, 1.94563867e-01])"
      ]
     },
     "execution_count": 34,
     "metadata": {},
     "output_type": "execute_result"
    }
   ],
   "source": [
    "Random_Forest_pipeline.fit(X_train, y_train)\n",
    "\n",
    "# predict target values on the training data\n",
    "Random_Forest_pipeline.predict(X_train)"
   ]
  },
  {
   "cell_type": "code",
   "execution_count": 35,
   "id": "f43d4ebe",
   "metadata": {},
   "outputs": [
    {
     "name": "stdout",
     "output_type": "stream",
     "text": [
      "RMSE on train data:  0.19922203424831628\n",
      "RMSE on test data:  0.44591551677314745\n"
     ]
    }
   ],
   "source": [
    "# Predicción\n",
    "predict_train = Random_Forest_pipeline.predict(X_train)\n",
    "predict_test = Random_Forest_pipeline.predict(X_test)\n",
    "\n",
    "# RMSE del train and test \n",
    "print('RMSE on train data: ', mean_squared_error(y_train, predict_train)**(0.5))\n",
    "print('RMSE on test data: ',  mean_squared_error(y_test, predict_test)**(0.5))"
   ]
  },
  {
   "cell_type": "markdown",
   "id": "0b76ad04",
   "metadata": {},
   "source": [
    "### Gridsearch"
   ]
  },
  {
   "cell_type": "code",
   "execution_count": 36,
   "id": "f44a4819",
   "metadata": {},
   "outputs": [
    {
     "name": "stdout",
     "output_type": "stream",
     "text": [
      "Parameters currently in use:\n",
      "\n",
      "{'bootstrap': True,\n",
      " 'ccp_alpha': 0.0,\n",
      " 'criterion': 'squared_error',\n",
      " 'max_depth': None,\n",
      " 'max_features': 'auto',\n",
      " 'max_leaf_nodes': None,\n",
      " 'max_samples': None,\n",
      " 'min_impurity_decrease': 0.0,\n",
      " 'min_samples_leaf': 1,\n",
      " 'min_samples_split': 2,\n",
      " 'min_weight_fraction_leaf': 0.0,\n",
      " 'n_estimators': 100,\n",
      " 'n_jobs': None,\n",
      " 'oob_score': False,\n",
      " 'random_state': 42,\n",
      " 'verbose': 0,\n",
      " 'warm_start': False}\n"
     ]
    }
   ],
   "source": [
    "# Listado de los parámetros modificables para el modelo\n",
    "rf = RandomForestRegressor(random_state = 42)\n",
    "from pprint import pprint\n",
    "\n",
    "print('Parameters currently in use:\\n')\n",
    "pprint(rf.get_params())"
   ]
  },
  {
   "cell_type": "code",
   "execution_count": 37,
   "id": "667e5d99",
   "metadata": {},
   "outputs": [
    {
     "name": "stdout",
     "output_type": "stream",
     "text": [
      "{'bootstrap': [True, False],\n",
      " 'max_depth': [10, 20, 30, 40, 50, 60, 70, 80, 90, 100, 110, None],\n",
      " 'max_features': ['auto', 'sqrt'],\n",
      " 'min_samples_leaf': [1, 2, 4],\n",
      " 'min_samples_split': [2, 5, 10],\n",
      " 'n_estimators': [200, 400, 600, 800, 1000, 1200, 1400, 1600, 1800, 2000]}\n"
     ]
    }
   ],
   "source": [
    "# Trees del random forest\n",
    "n_estimators = [int(x) for x in np.linspace(start = 200, stop = 2000, num = 10)]\n",
    "# Número de valores por cada split\n",
    "max_features = ['auto', 'sqrt']\n",
    "# Profundidad del Random Forest\n",
    "max_depth = [int(x) for x in np.linspace(10, 110, num = 11)]\n",
    "max_depth.append(None)\n",
    "# Número mínimo de muestras por split\n",
    "min_samples_split = [2, 5, 10]\n",
    "# Mínimo de muestras por nivel del Ranfom Forest (leaf)\n",
    "min_samples_leaf = [1, 2, 4]\n",
    "# Selección de muestra\n",
    "bootstrap = [True, False]\n",
    "# Creación del objeto Random Grid\n",
    "random_grid = {'n_estimators': n_estimators,\n",
    "               'max_features': max_features,\n",
    "               'max_depth': max_depth,\n",
    "               'min_samples_split': min_samples_split,\n",
    "               'min_samples_leaf': min_samples_leaf,\n",
    "               'bootstrap': bootstrap}\n",
    "pprint(random_grid)"
   ]
  },
  {
   "cell_type": "code",
   "execution_count": 38,
   "id": "6550484f",
   "metadata": {},
   "outputs": [
    {
     "name": "stdout",
     "output_type": "stream",
     "text": [
      "Fitting 3 folds for each of 100 candidates, totalling 300 fits\n"
     ]
    },
    {
     "data": {
      "text/plain": [
       "RandomizedSearchCV(cv=3, estimator=RandomForestRegressor(), n_iter=100,\n",
       "                   n_jobs=-1,\n",
       "                   param_distributions={'bootstrap': [True, False],\n",
       "                                        'max_depth': [10, 20, 30, 40, 50, 60,\n",
       "                                                      70, 80, 90, 100, 110,\n",
       "                                                      None],\n",
       "                                        'max_features': ['auto', 'sqrt'],\n",
       "                                        'min_samples_leaf': [1, 2, 4],\n",
       "                                        'min_samples_split': [2, 5, 10],\n",
       "                                        'n_estimators': [200, 400, 600, 800,\n",
       "                                                         1000, 1200, 1400, 1600,\n",
       "                                                         1800, 2000]},\n",
       "                   random_state=42, verbose=2)"
      ]
     },
     "execution_count": 38,
     "metadata": {},
     "output_type": "execute_result"
    }
   ],
   "source": [
    "# Use the random grid to search for best hyperparameters\n",
    "# Objeto\n",
    "rf = RandomForestRegressor()\n",
    "\n",
    "# Random search con modificación de parámetros\n",
    "rf_random = RandomizedSearchCV(estimator = rf, \n",
    "                               param_distributions = random_grid,\n",
    "                               n_iter = 100,\n",
    "                               cv = 3,\n",
    "                               verbose=2,\n",
    "                               random_state=42,\n",
    "                               n_jobs = -1)\n",
    "# Fitting del modelo con los Train test sets\n",
    "rf_random.fit(X_train, y_train)"
   ]
  },
  {
   "cell_type": "code",
   "execution_count": 39,
   "id": "2ee070a7",
   "metadata": {
    "scrolled": true
   },
   "outputs": [
    {
     "data": {
      "text/plain": [
       "{'n_estimators': 600,\n",
       " 'min_samples_split': 10,\n",
       " 'min_samples_leaf': 1,\n",
       " 'max_features': 'sqrt',\n",
       " 'max_depth': 110,\n",
       " 'bootstrap': True}"
      ]
     },
     "execution_count": 39,
     "metadata": {},
     "output_type": "execute_result"
    }
   ],
   "source": [
    "rf_random.best_params_"
   ]
  },
  {
   "cell_type": "code",
   "execution_count": 40,
   "id": "30bdca77",
   "metadata": {},
   "outputs": [
    {
     "name": "stdout",
     "output_type": "stream",
     "text": [
      "RMSE on train data:  0.2564960758867486\n",
      "RMSE on test data:  0.40792931104757624\n"
     ]
    }
   ],
   "source": [
    "# Best estimator\n",
    "best_random = rf_random.best_estimator_\n",
    "\n",
    "#Predicciones\n",
    "predict_train = best_random.predict(X_train)\n",
    "predict_test = best_random.predict(X_test)\n",
    "\n",
    "# Root Mean Squared Error\n",
    "print('RMSE on train data: ', mean_squared_error(y_train, predict_train)**(0.5))\n",
    "print('RMSE on test data: ', mean_squared_error(y_test, predict_test)**(0.5))"
   ]
  },
  {
   "cell_type": "markdown",
   "id": "622829f8",
   "metadata": {},
   "source": [
    "**- Exercici 2:**\n",
    "\n",
    "Agafa un text en anglès que vulguis, i calcula'n la freqüència de les paraules."
   ]
  },
  {
   "cell_type": "code",
   "execution_count": 41,
   "id": "20046545",
   "metadata": {},
   "outputs": [],
   "source": [
    "import nltk\n",
    "from nltk.tokenize import sent_tokenize\n",
    "from nltk.tokenize import word_tokenize\n",
    "from nltk.probability import FreqDist"
   ]
  },
  {
   "cell_type": "code",
   "execution_count": 42,
   "id": "bdfaf530",
   "metadata": {},
   "outputs": [],
   "source": [
    "# Importar  txt\n",
    "book_file = open(\"42.txt\", \"r\")\n",
    "book = book_file.read()"
   ]
  },
  {
   "cell_type": "code",
   "execution_count": 43,
   "id": "702fc2f9",
   "metadata": {},
   "outputs": [],
   "source": [
    "tokenized_text=sent_tokenize(book)"
   ]
  },
  {
   "cell_type": "code",
   "execution_count": 44,
   "id": "cb92f7da",
   "metadata": {},
   "outputs": [
    {
     "data": {
      "image/png": "[encoded data removed]",
      "text/plain": [
       "<Figure size 432x288 with 1 Axes>"
      ]
     },
     "metadata": {
      "needs_background": "light"
     },
     "output_type": "display_data"
    }
   ],
   "source": [
    "# Conteo de palabras repetidas\n",
    "tokenized_book = word_tokenize(book)\n",
    "# Ignorar puntuación\n",
    "tokenized_book= [word for word in tokenized_book if word.isalnum()]\n",
    "# repetición de palabras\n",
    "fdist = FreqDist(tokenized_book)\n",
    "# 20 palabras más repetidas\n",
    "fdist.plot(20,cumulative=False)\n",
    "plt.show()"
   ]
  },
  {
   "cell_type": "markdown",
   "id": "c7d26b2d",
   "metadata": {},
   "source": [
    "### Nivell 2\n",
    "\n",
    "**- Exercici 1:**\n",
    "\n",
    "Treu les stopwords i realitza stemming al teu conjunt de dades."
   ]
  },
  {
   "cell_type": "code",
   "execution_count": null,
   "id": "99810847",
   "metadata": {},
   "outputs": [],
   "source": []
  },
  {
   "cell_type": "markdown",
   "id": "385dcb90",
   "metadata": {},
   "source": [
    "### Nivell 3\n",
    "\n",
    "**- Exercici 1:**\n",
    "\n",
    "Realitza sentiment analysis al teu conjunt de dades."
   ]
  }
 ],
 "metadata": {
  "kernelspec": {
   "display_name": "Python 3 (ipykernel)",
   "language": "python",
   "name": "python3"
  },
  "language_info": {
   "codemirror_mode": {
    "name": "ipython",
    "version": 3
   },
   "file_extension": ".py",
   "mimetype": "text/x-python",
   "name": "python",
   "nbconvert_exporter": "python",
   "pygments_lexer": "ipython3",
   "version": "3.9.7"
  },
  "latex_envs": {
   "LaTeX_envs_menu_present": true,
   "autoclose": false,
   "autocomplete": true,
   "bibliofile": "biblio.bib",
   "cite_by": "apalike",
   "current_citInitial": 1,
   "eqLabelWithNumbers": true,
   "eqNumInitial": 1,
   "hotkeys": {
    "equation": "Ctrl-E",
    "itemize": "Ctrl-I"
   },
   "labels_anchors": false,
   "latex_user_defs": false,
   "report_style_numbering": false,
   "user_envs_cfg": false
  }
 },
 "nbformat": 4,
 "nbformat_minor": 5
}
